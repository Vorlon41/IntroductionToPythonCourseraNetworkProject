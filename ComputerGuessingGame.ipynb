{
 "cells": [
  {
   "cell_type": "markdown",
   "id": "5f2929d5-fb59-4eb6-b801-3899b045211b",
   "metadata": {},
   "source": [
    "# Guessing Game"
   ]
  },
  {
   "cell_type": "code",
   "execution_count": 46,
   "id": "95ac95f7-dd63-406a-b7c2-6e9159b967e7",
   "metadata": {},
   "outputs": [],
   "source": [
    "import random"
   ]
  },
  {
   "cell_type": "markdown",
   "id": "22871016-b7de-4ff6-af7d-e2027a3d0f0e",
   "metadata": {},
   "source": [
    "### Get the user's guess"
   ]
  },
  {
   "cell_type": "markdown",
   "id": "09f0b7ec-af3a-456c-867b-66a52b485393",
   "metadata": {},
   "source": [
    "guess = (int)(input(\"Enter your guess between 1 and 100: \"))"
   ]
  },
  {
   "cell_type": "markdown",
   "id": "c7efbc52-ba7c-46c2-a67d-bd447e94ff28",
   "metadata": {},
   "source": [
    "### Generate a random number between 1 and 100\n"
   ]
  },
  {
   "cell_type": "markdown",
   "id": "298b38d4-84c4-4292-b74d-c78495ed284d",
   "metadata": {},
   "source": [
    "randnum = random.randint(1,101)"
   ]
  },
  {
   "cell_type": "markdown",
   "id": "60a2216b-cabc-4eb3-be79-31fe4cd2947e",
   "metadata": {},
   "source": [
    "### Decision Construct"
   ]
  },
  {
   "cell_type": "markdown",
   "id": "fb748cd7-accc-492c-bba4-c8af5f1b8cde",
   "metadata": {},
   "source": [
    "  if guess < randnum:  \n",
    "       print(\"higher\")\n",
    "      \n",
    "  elif guess > randnum:  \n",
    "       print(\"lower\")\n",
    "      \n",
    "  else:  \n",
    "       print(\"you guessed it!\")\n",
    "  \n"
   ]
  },
  {
   "cell_type": "markdown",
   "id": "a69c1f22-4976-4e19-b857-487be174c0dc",
   "metadata": {},
   "source": [
    "### Use a loop\n",
    "count = 0       \n",
    "guess = - 99\n",
    "While loop     \n",
    "(guess != randnum:)   \n",
    "add the if elif else statement   \n",
    "add break at the end of the else   \n",
    "then add count = count + 1   "
   ]
  },
  {
   "cell_type": "markdown",
   "id": "1997c02e-b13e-4e7f-a8fb-e7ed1a336b9e",
   "metadata": {},
   "source": [
    "### Define the computer guess"
   ]
  },
  {
   "cell_type": "code",
   "execution_count": null,
   "id": "82da5da3-1594-4d36-a7f1-322a5b0db55e",
   "metadata": {},
   "outputs": [],
   "source": [
    "def computerGuess(lowval, highval, randnum, count = 0):   \n",
    "    if highval >= lowval:   \n",
    "        guess = lowval + (highval - lowval) // 2   \n",
    "        if guess == randnum:  \n",
    "            return count  \n",
    "        elif guess > randnum:  \n",
    "            count = count + 1  \n",
    "            return computerGuess(lowval, guess-1, randnum, count)  \n",
    "        else:  \n",
    "            count = count + 1  \n",
    "            return computerGuess(guess + 1, highval, randnum, count)  \n",
    "    else:  \n",
    "        return -1  "
   ]
  },
  {
   "cell_type": "code",
   "execution_count": null,
   "id": "16036f49-c1bd-4e26-877d-7277514cc120",
   "metadata": {},
   "outputs": [],
   "source": [
    "# Final Program"
   ]
  },
  {
   "cell_type": "code",
   "execution_count": 92,
   "id": "33bcbf3f-5704-43c3-882c-2dc8ee16346d",
   "metadata": {},
   "outputs": [
    {
     "name": "stdin",
     "output_type": "stream",
     "text": [
      "Enter your guess between 1 and 100:  55\n"
     ]
    },
    {
     "name": "stdout",
     "output_type": "stream",
     "text": [
      "higher\n"
     ]
    },
    {
     "name": "stdin",
     "output_type": "stream",
     "text": [
      "Enter your guess between 1 and 100:  60\n"
     ]
    },
    {
     "name": "stdout",
     "output_type": "stream",
     "text": [
      "higher\n"
     ]
    },
    {
     "name": "stdin",
     "output_type": "stream",
     "text": [
      "Enter your guess between 1 and 100:  75\n"
     ]
    },
    {
     "name": "stdout",
     "output_type": "stream",
     "text": [
      "higher\n"
     ]
    },
    {
     "name": "stdin",
     "output_type": "stream",
     "text": [
      "Enter your guess between 1 and 100:  95\n"
     ]
    },
    {
     "name": "stdout",
     "output_type": "stream",
     "text": [
      "you guessed it!\n",
      "You took 3 steps to guess the number\n",
      "The computer took 5 steps!\n"
     ]
    }
   ],
   "source": [
    "import random\n",
    "\n",
    "def computerGuess(lowval, highval, randnum, count = 0):\n",
    "    if highval >= lowval:\n",
    "        guess = lowval + (highval - lowval) // 2\n",
    "        if guess == randnum:\n",
    "            return count\n",
    "        elif guess > randnum:\n",
    "            count = count + 1\n",
    "            return computerGuess(lowval, guess-1, randnum, count)\n",
    "        else:\n",
    "            count = count + 1\n",
    "            return computerGuess(guess + 1, highval, randnum, count)\n",
    "    else:\n",
    "        return -1\n",
    "        \n",
    "randnum = random.randint(1,101)\n",
    "count = 0\n",
    "guess = -99\n",
    "\n",
    "while (guess != randnum):\n",
    "    guess = (int)(input(\"Enter your guess between 1 and 100: \"))\n",
    "    if guess < randnum:\n",
    "        print(\"higher\")\n",
    "    elif guess > randnum:\n",
    "        print(\"lower\")\n",
    "    else:\n",
    "        print(\"you guessed it!\")\n",
    "        break\n",
    "    count = count + 1\n",
    "print(\"You took \" + str(count) + \" steps to guess the number\")\n",
    "print(\"The computer took \" + str(computerGuess(0,100, randnum)) + \" steps!\")"
   ]
  },
  {
   "cell_type": "code",
   "execution_count": null,
   "id": "f4142cfe-ab08-45b4-9992-f02d21572a59",
   "metadata": {},
   "outputs": [],
   "source": []
  }
 ],
 "metadata": {
  "kernelspec": {
   "display_name": "Python 3 (ipykernel)",
   "language": "python",
   "name": "python3"
  },
  "language_info": {
   "codemirror_mode": {
    "name": "ipython",
    "version": 3
   },
   "file_extension": ".py",
   "mimetype": "text/x-python",
   "name": "python",
   "nbconvert_exporter": "python",
   "pygments_lexer": "ipython3",
   "version": "3.12.4"
  }
 },
 "nbformat": 4,
 "nbformat_minor": 5
}
