{
 "cells": [
  {
   "cell_type": "markdown",
   "id": "f5ccf8f5-75d8-481e-99eb-23e5a42bacae",
   "metadata": {},
   "source": [
    "# Food Supplier"
   ]
  },
  {
   "cell_type": "code",
   "execution_count": null,
   "id": "47991157-ab78-4df9-b453-2f0b360919be",
   "metadata": {},
   "outputs": [],
   "source": []
  },
  {
   "cell_type": "markdown",
   "id": "153ef88a-1d42-49b0-a310-5dfb64347585",
   "metadata": {},
   "source": [
    "### Details"
   ]
  },
  {
   "cell_type": "markdown",
   "id": "e24d6f20-4cce-4af5-ac24-5077da5e37e1",
   "metadata": {},
   "source": [
    "#### Food supplier has come up with a numeric scoring system for its products. Any product with a score less than 50 needs to be flagged as failing. If the score is 50 or greater, then it passes"
   ]
  },
  {
   "cell_type": "code",
   "execution_count": 5,
   "id": "b4acbcf9-dc83-4820-9c90-c0370edb2f48",
   "metadata": {},
   "outputs": [
    {
     "name": "stdin",
     "output_type": "stream",
     "text": [
      "Please input the product score:  56\n"
     ]
    },
    {
     "name": "stdout",
     "output_type": "stream",
     "text": [
      "Pass\n"
     ]
    }
   ],
   "source": [
    "score = (int)(input(\"Please input the product score: \"))\n",
    "if score < 50:\n",
    "    print(\"Fail\")\n",
    "else:\n",
    "    print(\"Pass\")"
   ]
  },
  {
   "cell_type": "code",
   "execution_count": null,
   "id": "d89e1ca7-9e85-4125-8da3-cf06dc0c476a",
   "metadata": {},
   "outputs": [],
   "source": []
  },
  {
   "cell_type": "code",
   "execution_count": null,
   "id": "d3bfa95c-4dd0-4694-89c2-dff533cadc45",
   "metadata": {},
   "outputs": [
    {
     "name": "stdin",
     "output_type": "stream",
     "text": [
      "Please enter a score:  45\n"
     ]
    },
    {
     "name": "stdout",
     "output_type": "stream",
     "text": [
      "Fail\n"
     ]
    }
   ],
   "source": [
    "def check(score):\n",
    "    if score < 50:\n",
    "        print(\"Fail\")\n",
    "    else:\n",
    "        print(\"Pass\")\n",
    "score = (int) (input(\"Please enter a score: \"))\n",
    "\n",
    "while score  >= 0:\n",
    "    check(score)\n",
    "    score = (int) (input(\"Please enter the score: \"))"
   ]
  },
  {
   "cell_type": "code",
   "execution_count": null,
   "id": "3648d006-177c-42d9-b71f-1a77b5a7ab7a",
   "metadata": {},
   "outputs": [],
   "source": []
  }
 ],
 "metadata": {
  "kernelspec": {
   "display_name": "Python 3 (ipykernel)",
   "language": "python",
   "name": "python3"
  },
  "language_info": {
   "codemirror_mode": {
    "name": "ipython",
    "version": 3
   },
   "file_extension": ".py",
   "mimetype": "text/x-python",
   "name": "python",
   "nbconvert_exporter": "python",
   "pygments_lexer": "ipython3",
   "version": "3.12.4"
  }
 },
 "nbformat": 4,
 "nbformat_minor": 5
}
